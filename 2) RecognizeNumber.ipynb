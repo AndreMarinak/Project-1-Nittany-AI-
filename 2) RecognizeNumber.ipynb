{
  "nbformat": 4,
  "nbformat_minor": 0,
  "metadata": {
    "colab": {
      "provenance": []
    },
    "kernelspec": {
      "name": "python3",
      "display_name": "Python 3"
    },
    "language_info": {
      "name": "python"
    }
  },
  "cells": [
    {
      "cell_type": "code",
      "execution_count": 1,
      "metadata": {
        "id": "UuZ6eBdlz1R9"
      },
      "outputs": [],
      "source": [
        "from torchvision import datasets\n",
        "from torchvision.transforms import ToTensor\n",
        "\n",
        "# Ignore deprecated warnings\n",
        "import warnings\n",
        "warnings.filterwarnings(\"ignore\", category=UserWarning)"
      ]
    },
    {
      "cell_type": "code",
      "source": [
        "train_data = datasets.MNIST(\n",
        "    root = 'data',\n",
        "    train = True,\n",
        "    transform = ToTensor(),\n",
        "    download = True\n",
        ")\n",
        "\n",
        "test_data = datasets.MNIST(\n",
        "    root = 'data',\n",
        "    train = False,\n",
        "    transform = ToTensor(),\n",
        "    download = True\n",
        ")"
      ],
      "metadata": {
        "colab": {
          "base_uri": "https://localhost:8080/"
        },
        "id": "7GCx1J2I0GUb",
        "outputId": "606c9503-0ed0-4a67-c8ee-25a2ca40ac31"
      },
      "execution_count": 2,
      "outputs": [
        {
          "output_type": "stream",
          "name": "stdout",
          "text": [
            "Downloading http://yann.lecun.com/exdb/mnist/train-images-idx3-ubyte.gz\n",
            "Failed to download (trying next):\n",
            "HTTP Error 403: Forbidden\n",
            "\n",
            "Downloading https://ossci-datasets.s3.amazonaws.com/mnist/train-images-idx3-ubyte.gz\n",
            "Downloading https://ossci-datasets.s3.amazonaws.com/mnist/train-images-idx3-ubyte.gz to data/MNIST/raw/train-images-idx3-ubyte.gz\n"
          ]
        },
        {
          "output_type": "stream",
          "name": "stderr",
          "text": [
            "100%|██████████| 9.91M/9.91M [00:01<00:00, 5.22MB/s]\n"
          ]
        },
        {
          "output_type": "stream",
          "name": "stdout",
          "text": [
            "Extracting data/MNIST/raw/train-images-idx3-ubyte.gz to data/MNIST/raw\n",
            "\n",
            "Downloading http://yann.lecun.com/exdb/mnist/train-labels-idx1-ubyte.gz\n",
            "Failed to download (trying next):\n",
            "HTTP Error 403: Forbidden\n",
            "\n",
            "Downloading https://ossci-datasets.s3.amazonaws.com/mnist/train-labels-idx1-ubyte.gz\n",
            "Downloading https://ossci-datasets.s3.amazonaws.com/mnist/train-labels-idx1-ubyte.gz to data/MNIST/raw/train-labels-idx1-ubyte.gz\n"
          ]
        },
        {
          "output_type": "stream",
          "name": "stderr",
          "text": [
            "100%|██████████| 28.9k/28.9k [00:00<00:00, 154kB/s]\n"
          ]
        },
        {
          "output_type": "stream",
          "name": "stdout",
          "text": [
            "Extracting data/MNIST/raw/train-labels-idx1-ubyte.gz to data/MNIST/raw\n",
            "\n",
            "Downloading http://yann.lecun.com/exdb/mnist/t10k-images-idx3-ubyte.gz\n",
            "Failed to download (trying next):\n",
            "HTTP Error 403: Forbidden\n",
            "\n",
            "Downloading https://ossci-datasets.s3.amazonaws.com/mnist/t10k-images-idx3-ubyte.gz\n",
            "Downloading https://ossci-datasets.s3.amazonaws.com/mnist/t10k-images-idx3-ubyte.gz to data/MNIST/raw/t10k-images-idx3-ubyte.gz\n"
          ]
        },
        {
          "output_type": "stream",
          "name": "stderr",
          "text": [
            "100%|██████████| 1.65M/1.65M [00:01<00:00, 1.46MB/s]\n"
          ]
        },
        {
          "output_type": "stream",
          "name": "stdout",
          "text": [
            "Extracting data/MNIST/raw/t10k-images-idx3-ubyte.gz to data/MNIST/raw\n",
            "\n",
            "Downloading http://yann.lecun.com/exdb/mnist/t10k-labels-idx1-ubyte.gz\n",
            "Failed to download (trying next):\n",
            "HTTP Error 403: Forbidden\n",
            "\n",
            "Downloading https://ossci-datasets.s3.amazonaws.com/mnist/t10k-labels-idx1-ubyte.gz\n",
            "Downloading https://ossci-datasets.s3.amazonaws.com/mnist/t10k-labels-idx1-ubyte.gz to data/MNIST/raw/t10k-labels-idx1-ubyte.gz\n"
          ]
        },
        {
          "output_type": "stream",
          "name": "stderr",
          "text": [
            "100%|██████████| 4.54k/4.54k [00:00<00:00, 6.26MB/s]"
          ]
        },
        {
          "output_type": "stream",
          "name": "stdout",
          "text": [
            "Extracting data/MNIST/raw/t10k-labels-idx1-ubyte.gz to data/MNIST/raw\n",
            "\n"
          ]
        },
        {
          "output_type": "stream",
          "name": "stderr",
          "text": [
            "\n"
          ]
        }
      ]
    },
    {
      "cell_type": "code",
      "source": [
        "test_data"
      ],
      "metadata": {
        "colab": {
          "base_uri": "https://localhost:8080/"
        },
        "id": "5ToqCrEU0gMq",
        "outputId": "49a8fefa-2820-4188-c7cf-4dfa91b2043b"
      },
      "execution_count": 3,
      "outputs": [
        {
          "output_type": "execute_result",
          "data": {
            "text/plain": [
              "Dataset MNIST\n",
              "    Number of datapoints: 10000\n",
              "    Root location: data\n",
              "    Split: Test\n",
              "    StandardTransform\n",
              "Transform: ToTensor()"
            ]
          },
          "metadata": {},
          "execution_count": 3
        }
      ]
    },
    {
      "cell_type": "code",
      "source": [
        "train_data.data.shape"
      ],
      "metadata": {
        "colab": {
          "base_uri": "https://localhost:8080/"
        },
        "id": "YF2dvXFG0uE7",
        "outputId": "e825cbfa-f9f3-4360-efef-0b5760f07a20"
      },
      "execution_count": 5,
      "outputs": [
        {
          "output_type": "execute_result",
          "data": {
            "text/plain": [
              "torch.Size([60000, 28, 28])"
            ]
          },
          "metadata": {},
          "execution_count": 5
        }
      ]
    },
    {
      "cell_type": "code",
      "source": [
        "test_data.data.shape"
      ],
      "metadata": {
        "colab": {
          "base_uri": "https://localhost:8080/"
        },
        "id": "8PwFJi9C03F9",
        "outputId": "35add756-cf20-4613-9b25-47b1feeac9d6"
      },
      "execution_count": 6,
      "outputs": [
        {
          "output_type": "execute_result",
          "data": {
            "text/plain": [
              "torch.Size([10000, 28, 28])"
            ]
          },
          "metadata": {},
          "execution_count": 6
        }
      ]
    },
    {
      "cell_type": "code",
      "source": [
        "train_data.targets.size()"
      ],
      "metadata": {
        "colab": {
          "base_uri": "https://localhost:8080/"
        },
        "id": "De_sThqn0605",
        "outputId": "722eedcb-3504-4d6e-b58a-17b59fc56997"
      },
      "execution_count": 8,
      "outputs": [
        {
          "output_type": "execute_result",
          "data": {
            "text/plain": [
              "torch.Size([60000])"
            ]
          },
          "metadata": {},
          "execution_count": 8
        }
      ]
    },
    {
      "cell_type": "code",
      "source": [
        "train_data.targets"
      ],
      "metadata": {
        "colab": {
          "base_uri": "https://localhost:8080/"
        },
        "id": "EzAv0Cvr1EE8",
        "outputId": "cd4b96c2-8627-4f7c-87cb-8031af131cda"
      },
      "execution_count": 9,
      "outputs": [
        {
          "output_type": "execute_result",
          "data": {
            "text/plain": [
              "tensor([5, 0, 4,  ..., 5, 6, 8])"
            ]
          },
          "metadata": {},
          "execution_count": 9
        }
      ]
    },
    {
      "cell_type": "code",
      "source": [
        "from torch.utils.data import DataLoader\n",
        "\n",
        "loaders = {\n",
        "    'train' : DataLoader(train_data,\n",
        "                         batch_size=100,\n",
        "                         shuffle=True,\n",
        "                         num_workers=1),\n",
        "    'test' : DataLoader(test_data,\n",
        "                        batch_size=100,\n",
        "                        shuffle=True,\n",
        "                        num_workers=1)\n",
        "}"
      ],
      "metadata": {
        "id": "HtH_hlHO0jq4"
      },
      "execution_count": 10,
      "outputs": []
    },
    {
      "cell_type": "code",
      "source": [
        "loaders"
      ],
      "metadata": {
        "colab": {
          "base_uri": "https://localhost:8080/"
        },
        "id": "8SQ7UYRl1fJc",
        "outputId": "d2405d84-9b1d-462a-9ed0-e21eea301b41"
      },
      "execution_count": 11,
      "outputs": [
        {
          "output_type": "execute_result",
          "data": {
            "text/plain": [
              "{'train': <torch.utils.data.dataloader.DataLoader at 0x7ef8a4aafb80>,\n",
              " 'test': <torch.utils.data.dataloader.DataLoader at 0x7ef8a4aaeaa0>}"
            ]
          },
          "metadata": {},
          "execution_count": 11
        }
      ]
    },
    {
      "cell_type": "code",
      "source": [
        "import torch.nn as nn\n",
        "import torch.nn.functional as F\n",
        "import torch.optim as optim"
      ],
      "metadata": {
        "id": "LXm7Jtrw1jI1"
      },
      "execution_count": 12,
      "outputs": []
    },
    {
      "cell_type": "code",
      "source": [
        "class CNN(nn.Module):\n",
        "\n",
        "    def __init__(self):\n",
        "        super(CNN, self).__init__()\n",
        "\n",
        "        self.conv1 = nn.Conv2d(1, 10, kernel_size=5)\n",
        "        self.conv2 = nn.Conv2d(10, 20, kernel_size=5)\n",
        "        self.conv2_drop = nn.Dropout2d()\n",
        "        self.fc1 = nn.Linear(320, 50)\n",
        "        self.fc2 = nn.Linear(50, 10)\n",
        "\n",
        "    def forward(self, x):\n",
        "        x = F.relu(F.max_pool2d(self.conv1(x), 2))\n",
        "        x = F.relu(F.max_pool2d(self.conv2_drop(self.conv2(x)), 2))\n",
        "        x = x.view(-1, 320)\n",
        "        x = F.relu(self.fc1(x))\n",
        "        x = F.dropout(x, training=self.training)\n",
        "        x = self.fc2(x)\n",
        "\n",
        "        return F.softmax(x)"
      ],
      "metadata": {
        "id": "Jx5StP_E1o7F"
      },
      "execution_count": 13,
      "outputs": []
    },
    {
      "cell_type": "code",
      "source": [
        "import torch\n",
        "\n",
        "device = torch.device('cuda' if torch.cuda.is_available() else 'cpu')\n",
        "model = CNN().to(device)\n",
        "optimizer = optim.Adam(model.parameters(), lr=0.001)\n",
        "loss_fn = nn.CrossEntropyLoss()"
      ],
      "metadata": {
        "id": "sW75OSwI2LNz"
      },
      "execution_count": 14,
      "outputs": []
    },
    {
      "cell_type": "code",
      "source": [
        "def train(epoch):\n",
        "    model.train()\n",
        "    for batch_idx, (data, target) in enumerate(loaders['train']):\n",
        "        data, target = data.to(device), target.to(device)\n",
        "        optimizer.zero_grad()\n",
        "        output = model(data)\n",
        "        loss = loss_fn(output, target)\n",
        "        loss.backward()\n",
        "        optimizer.step()\n",
        "        if batch_idx % 20 == 0:\n",
        "            print(f\"Train Epoch: {epoch} [{batch_idx * len(data)} / {len(loaders['train'].dataset)} ({100 * batch_idx / len(loaders['train']):0f}%)]\\t{loss.item():.6f}\")"
      ],
      "metadata": {
        "id": "bvqN20xW2T_B"
      },
      "execution_count": 15,
      "outputs": []
    },
    {
      "cell_type": "code",
      "source": [
        "def test():\n",
        "    model.eval()\n",
        "    test_loss = 0\n",
        "    correct = 0\n",
        "    with torch.no_grad():\n",
        "        for data, target in loaders['test']:\n",
        "            data, target = data.to(device), target.to(device)\n",
        "            output = model(data)\n",
        "            test_loss += loss_fn(output, target).item()\n",
        "            pred = output.argmax(dim=1, keepdim=True)\n",
        "            correct += pred.eq(target.view_as(pred)).sum().item()\n",
        "    test_loss /= len(loaders['test'].dataset)\n",
        "    print(f\"\\nTest set: Average loss: {test_loss: 0.4f}, Accuracy {correct}/{len(loaders['test'].dataset)}  ({100 * correct / len(loaders['test'].dataset):.0f}%\\n)\")"
      ],
      "metadata": {
        "id": "80IHBznh2bGk"
      },
      "execution_count": 16,
      "outputs": []
    },
    {
      "cell_type": "code",
      "source": [
        "for epoch in range(1, 11):\n",
        "    train(epoch)\n",
        "    test()"
      ],
      "metadata": {
        "colab": {
          "base_uri": "https://localhost:8080/"
        },
        "id": "-k7yqUtC2jVn",
        "outputId": "8275a065-38c0-493c-8a9e-198de3611357"
      },
      "execution_count": 17,
      "outputs": [
        {
          "output_type": "stream",
          "name": "stdout",
          "text": [
            "Train Epoch: 1 [0 / 60000 (0.000000%)]\t2.303125\n",
            "Train Epoch: 1 [2000 / 60000 (3.333333%)]\t2.285182\n",
            "Train Epoch: 1 [4000 / 60000 (6.666667%)]\t2.219437\n",
            "Train Epoch: 1 [6000 / 60000 (10.000000%)]\t2.069909\n",
            "Train Epoch: 1 [8000 / 60000 (13.333333%)]\t1.981691\n",
            "Train Epoch: 1 [10000 / 60000 (16.666667%)]\t1.863810\n",
            "Train Epoch: 1 [12000 / 60000 (20.000000%)]\t1.883517\n",
            "Train Epoch: 1 [14000 / 60000 (23.333333%)]\t1.769325\n",
            "Train Epoch: 1 [16000 / 60000 (26.666667%)]\t1.721649\n",
            "Train Epoch: 1 [18000 / 60000 (30.000000%)]\t1.754289\n",
            "Train Epoch: 1 [20000 / 60000 (33.333333%)]\t1.630346\n",
            "Train Epoch: 1 [22000 / 60000 (36.666667%)]\t1.765715\n",
            "Train Epoch: 1 [24000 / 60000 (40.000000%)]\t1.701786\n",
            "Train Epoch: 1 [26000 / 60000 (43.333333%)]\t1.676902\n",
            "Train Epoch: 1 [28000 / 60000 (46.666667%)]\t1.617136\n",
            "Train Epoch: 1 [30000 / 60000 (50.000000%)]\t1.659400\n",
            "Train Epoch: 1 [32000 / 60000 (53.333333%)]\t1.701784\n",
            "Train Epoch: 1 [34000 / 60000 (56.666667%)]\t1.693292\n",
            "Train Epoch: 1 [36000 / 60000 (60.000000%)]\t1.679375\n",
            "Train Epoch: 1 [38000 / 60000 (63.333333%)]\t1.619108\n",
            "Train Epoch: 1 [40000 / 60000 (66.666667%)]\t1.675050\n",
            "Train Epoch: 1 [42000 / 60000 (70.000000%)]\t1.650684\n",
            "Train Epoch: 1 [44000 / 60000 (73.333333%)]\t1.624813\n",
            "Train Epoch: 1 [46000 / 60000 (76.666667%)]\t1.646773\n",
            "Train Epoch: 1 [48000 / 60000 (80.000000%)]\t1.619086\n",
            "Train Epoch: 1 [50000 / 60000 (83.333333%)]\t1.604431\n",
            "Train Epoch: 1 [52000 / 60000 (86.666667%)]\t1.638724\n",
            "Train Epoch: 1 [54000 / 60000 (90.000000%)]\t1.627162\n",
            "Train Epoch: 1 [56000 / 60000 (93.333333%)]\t1.711262\n",
            "Train Epoch: 1 [58000 / 60000 (96.666667%)]\t1.559873\n",
            "\n",
            "Test set: Average loss:  0.0153, Accuracy 9341/10000  (93%\n",
            ")\n",
            "Train Epoch: 2 [0 / 60000 (0.000000%)]\t1.598910\n",
            "Train Epoch: 2 [2000 / 60000 (3.333333%)]\t1.608752\n",
            "Train Epoch: 2 [4000 / 60000 (6.666667%)]\t1.603372\n",
            "Train Epoch: 2 [6000 / 60000 (10.000000%)]\t1.611074\n",
            "Train Epoch: 2 [8000 / 60000 (13.333333%)]\t1.590925\n",
            "Train Epoch: 2 [10000 / 60000 (16.666667%)]\t1.597807\n",
            "Train Epoch: 2 [12000 / 60000 (20.000000%)]\t1.553886\n",
            "Train Epoch: 2 [14000 / 60000 (23.333333%)]\t1.614117\n",
            "Train Epoch: 2 [16000 / 60000 (26.666667%)]\t1.567603\n",
            "Train Epoch: 2 [18000 / 60000 (30.000000%)]\t1.593711\n",
            "Train Epoch: 2 [20000 / 60000 (33.333333%)]\t1.602093\n",
            "Train Epoch: 2 [22000 / 60000 (36.666667%)]\t1.588518\n",
            "Train Epoch: 2 [24000 / 60000 (40.000000%)]\t1.563752\n",
            "Train Epoch: 2 [26000 / 60000 (43.333333%)]\t1.527451\n",
            "Train Epoch: 2 [28000 / 60000 (46.666667%)]\t1.689489\n",
            "Train Epoch: 2 [30000 / 60000 (50.000000%)]\t1.612365\n",
            "Train Epoch: 2 [32000 / 60000 (53.333333%)]\t1.621643\n",
            "Train Epoch: 2 [34000 / 60000 (56.666667%)]\t1.610842\n",
            "Train Epoch: 2 [36000 / 60000 (60.000000%)]\t1.573653\n",
            "Train Epoch: 2 [38000 / 60000 (63.333333%)]\t1.607913\n",
            "Train Epoch: 2 [40000 / 60000 (66.666667%)]\t1.558075\n",
            "Train Epoch: 2 [42000 / 60000 (70.000000%)]\t1.598374\n",
            "Train Epoch: 2 [44000 / 60000 (73.333333%)]\t1.579581\n",
            "Train Epoch: 2 [46000 / 60000 (76.666667%)]\t1.592054\n",
            "Train Epoch: 2 [48000 / 60000 (80.000000%)]\t1.550375\n",
            "Train Epoch: 2 [50000 / 60000 (83.333333%)]\t1.625785\n",
            "Train Epoch: 2 [52000 / 60000 (86.666667%)]\t1.533069\n",
            "Train Epoch: 2 [54000 / 60000 (90.000000%)]\t1.590569\n",
            "Train Epoch: 2 [56000 / 60000 (93.333333%)]\t1.589629\n",
            "Train Epoch: 2 [58000 / 60000 (96.666667%)]\t1.574111\n",
            "\n",
            "Test set: Average loss:  0.0151, Accuracy 9487/10000  (95%\n",
            ")\n",
            "Train Epoch: 3 [0 / 60000 (0.000000%)]\t1.558347\n",
            "Train Epoch: 3 [2000 / 60000 (3.333333%)]\t1.580617\n",
            "Train Epoch: 3 [4000 / 60000 (6.666667%)]\t1.542080\n",
            "Train Epoch: 3 [6000 / 60000 (10.000000%)]\t1.573018\n",
            "Train Epoch: 3 [8000 / 60000 (13.333333%)]\t1.609730\n",
            "Train Epoch: 3 [10000 / 60000 (16.666667%)]\t1.570407\n",
            "Train Epoch: 3 [12000 / 60000 (20.000000%)]\t1.609568\n",
            "Train Epoch: 3 [14000 / 60000 (23.333333%)]\t1.564323\n",
            "Train Epoch: 3 [16000 / 60000 (26.666667%)]\t1.548158\n",
            "Train Epoch: 3 [18000 / 60000 (30.000000%)]\t1.590733\n",
            "Train Epoch: 3 [20000 / 60000 (33.333333%)]\t1.574989\n",
            "Train Epoch: 3 [22000 / 60000 (36.666667%)]\t1.547031\n",
            "Train Epoch: 3 [24000 / 60000 (40.000000%)]\t1.615372\n",
            "Train Epoch: 3 [26000 / 60000 (43.333333%)]\t1.575358\n",
            "Train Epoch: 3 [28000 / 60000 (46.666667%)]\t1.527837\n",
            "Train Epoch: 3 [30000 / 60000 (50.000000%)]\t1.580749\n",
            "Train Epoch: 3 [32000 / 60000 (53.333333%)]\t1.549266\n",
            "Train Epoch: 3 [34000 / 60000 (56.666667%)]\t1.572318\n",
            "Train Epoch: 3 [36000 / 60000 (60.000000%)]\t1.584819\n",
            "Train Epoch: 3 [38000 / 60000 (63.333333%)]\t1.559892\n",
            "Train Epoch: 3 [40000 / 60000 (66.666667%)]\t1.517992\n",
            "Train Epoch: 3 [42000 / 60000 (70.000000%)]\t1.562917\n",
            "Train Epoch: 3 [44000 / 60000 (73.333333%)]\t1.587202\n",
            "Train Epoch: 3 [46000 / 60000 (76.666667%)]\t1.584543\n",
            "Train Epoch: 3 [48000 / 60000 (80.000000%)]\t1.590484\n",
            "Train Epoch: 3 [50000 / 60000 (83.333333%)]\t1.537304\n",
            "Train Epoch: 3 [52000 / 60000 (86.666667%)]\t1.564812\n",
            "Train Epoch: 3 [54000 / 60000 (90.000000%)]\t1.512134\n",
            "Train Epoch: 3 [56000 / 60000 (93.333333%)]\t1.559456\n",
            "Train Epoch: 3 [58000 / 60000 (96.666667%)]\t1.618368\n",
            "\n",
            "Test set: Average loss:  0.0151, Accuracy 9551/10000  (96%\n",
            ")\n",
            "Train Epoch: 4 [0 / 60000 (0.000000%)]\t1.618108\n",
            "Train Epoch: 4 [2000 / 60000 (3.333333%)]\t1.537576\n",
            "Train Epoch: 4 [4000 / 60000 (6.666667%)]\t1.578256\n",
            "Train Epoch: 4 [6000 / 60000 (10.000000%)]\t1.558242\n",
            "Train Epoch: 4 [8000 / 60000 (13.333333%)]\t1.551335\n",
            "Train Epoch: 4 [10000 / 60000 (16.666667%)]\t1.615179\n",
            "Train Epoch: 4 [12000 / 60000 (20.000000%)]\t1.545298\n",
            "Train Epoch: 4 [14000 / 60000 (23.333333%)]\t1.586365\n",
            "Train Epoch: 4 [16000 / 60000 (26.666667%)]\t1.590862\n",
            "Train Epoch: 4 [18000 / 60000 (30.000000%)]\t1.557183\n",
            "Train Epoch: 4 [20000 / 60000 (33.333333%)]\t1.547830\n",
            "Train Epoch: 4 [22000 / 60000 (36.666667%)]\t1.589757\n",
            "Train Epoch: 4 [24000 / 60000 (40.000000%)]\t1.589207\n",
            "Train Epoch: 4 [26000 / 60000 (43.333333%)]\t1.506621\n",
            "Train Epoch: 4 [28000 / 60000 (46.666667%)]\t1.578039\n",
            "Train Epoch: 4 [30000 / 60000 (50.000000%)]\t1.568899\n",
            "Train Epoch: 4 [32000 / 60000 (53.333333%)]\t1.560856\n",
            "Train Epoch: 4 [34000 / 60000 (56.666667%)]\t1.597919\n",
            "Train Epoch: 4 [36000 / 60000 (60.000000%)]\t1.573161\n",
            "Train Epoch: 4 [38000 / 60000 (63.333333%)]\t1.547932\n",
            "Train Epoch: 4 [40000 / 60000 (66.666667%)]\t1.548253\n",
            "Train Epoch: 4 [42000 / 60000 (70.000000%)]\t1.595856\n",
            "Train Epoch: 4 [44000 / 60000 (73.333333%)]\t1.519121\n",
            "Train Epoch: 4 [46000 / 60000 (76.666667%)]\t1.529357\n",
            "Train Epoch: 4 [48000 / 60000 (80.000000%)]\t1.607034\n",
            "Train Epoch: 4 [50000 / 60000 (83.333333%)]\t1.583153\n",
            "Train Epoch: 4 [52000 / 60000 (86.666667%)]\t1.548425\n",
            "Train Epoch: 4 [54000 / 60000 (90.000000%)]\t1.529398\n",
            "Train Epoch: 4 [56000 / 60000 (93.333333%)]\t1.571373\n",
            "Train Epoch: 4 [58000 / 60000 (96.666667%)]\t1.547099\n",
            "\n",
            "Test set: Average loss:  0.0150, Accuracy 9596/10000  (96%\n",
            ")\n",
            "Train Epoch: 5 [0 / 60000 (0.000000%)]\t1.581787\n",
            "Train Epoch: 5 [2000 / 60000 (3.333333%)]\t1.560850\n",
            "Train Epoch: 5 [4000 / 60000 (6.666667%)]\t1.590532\n",
            "Train Epoch: 5 [6000 / 60000 (10.000000%)]\t1.573117\n",
            "Train Epoch: 5 [8000 / 60000 (13.333333%)]\t1.511811\n",
            "Train Epoch: 5 [10000 / 60000 (16.666667%)]\t1.535956\n",
            "Train Epoch: 5 [12000 / 60000 (20.000000%)]\t1.523193\n",
            "Train Epoch: 5 [14000 / 60000 (23.333333%)]\t1.553812\n",
            "Train Epoch: 5 [16000 / 60000 (26.666667%)]\t1.558412\n",
            "Train Epoch: 5 [18000 / 60000 (30.000000%)]\t1.556096\n",
            "Train Epoch: 5 [20000 / 60000 (33.333333%)]\t1.527101\n",
            "Train Epoch: 5 [22000 / 60000 (36.666667%)]\t1.609704\n",
            "Train Epoch: 5 [24000 / 60000 (40.000000%)]\t1.562627\n",
            "Train Epoch: 5 [26000 / 60000 (43.333333%)]\t1.576976\n",
            "Train Epoch: 5 [28000 / 60000 (46.666667%)]\t1.577071\n",
            "Train Epoch: 5 [30000 / 60000 (50.000000%)]\t1.549224\n",
            "Train Epoch: 5 [32000 / 60000 (53.333333%)]\t1.595356\n",
            "Train Epoch: 5 [34000 / 60000 (56.666667%)]\t1.567270\n",
            "Train Epoch: 5 [36000 / 60000 (60.000000%)]\t1.618278\n",
            "Train Epoch: 5 [38000 / 60000 (63.333333%)]\t1.570986\n",
            "Train Epoch: 5 [40000 / 60000 (66.666667%)]\t1.516117\n",
            "Train Epoch: 5 [42000 / 60000 (70.000000%)]\t1.590555\n",
            "Train Epoch: 5 [44000 / 60000 (73.333333%)]\t1.535312\n",
            "Train Epoch: 5 [46000 / 60000 (76.666667%)]\t1.542679\n",
            "Train Epoch: 5 [48000 / 60000 (80.000000%)]\t1.558716\n",
            "Train Epoch: 5 [50000 / 60000 (83.333333%)]\t1.527397\n",
            "Train Epoch: 5 [52000 / 60000 (86.666667%)]\t1.577635\n",
            "Train Epoch: 5 [54000 / 60000 (90.000000%)]\t1.550144\n",
            "Train Epoch: 5 [56000 / 60000 (93.333333%)]\t1.568152\n",
            "Train Epoch: 5 [58000 / 60000 (96.666667%)]\t1.521724\n",
            "\n",
            "Test set: Average loss:  0.0150, Accuracy 9636/10000  (96%\n",
            ")\n",
            "Train Epoch: 6 [0 / 60000 (0.000000%)]\t1.512239\n",
            "Train Epoch: 6 [2000 / 60000 (3.333333%)]\t1.572782\n",
            "Train Epoch: 6 [4000 / 60000 (6.666667%)]\t1.573815\n",
            "Train Epoch: 6 [6000 / 60000 (10.000000%)]\t1.528930\n",
            "Train Epoch: 6 [8000 / 60000 (13.333333%)]\t1.526485\n",
            "Train Epoch: 6 [10000 / 60000 (16.666667%)]\t1.564620\n",
            "Train Epoch: 6 [12000 / 60000 (20.000000%)]\t1.527676\n",
            "Train Epoch: 6 [14000 / 60000 (23.333333%)]\t1.574288\n",
            "Train Epoch: 6 [16000 / 60000 (26.666667%)]\t1.500412\n",
            "Train Epoch: 6 [18000 / 60000 (30.000000%)]\t1.554777\n",
            "Train Epoch: 6 [20000 / 60000 (33.333333%)]\t1.524966\n",
            "Train Epoch: 6 [22000 / 60000 (36.666667%)]\t1.530860\n",
            "Train Epoch: 6 [24000 / 60000 (40.000000%)]\t1.529612\n",
            "Train Epoch: 6 [26000 / 60000 (43.333333%)]\t1.526978\n",
            "Train Epoch: 6 [28000 / 60000 (46.666667%)]\t1.560467\n",
            "Train Epoch: 6 [30000 / 60000 (50.000000%)]\t1.595254\n",
            "Train Epoch: 6 [32000 / 60000 (53.333333%)]\t1.554033\n",
            "Train Epoch: 6 [34000 / 60000 (56.666667%)]\t1.582144\n",
            "Train Epoch: 6 [36000 / 60000 (60.000000%)]\t1.511433\n",
            "Train Epoch: 6 [38000 / 60000 (63.333333%)]\t1.569515\n",
            "Train Epoch: 6 [40000 / 60000 (66.666667%)]\t1.489636\n",
            "Train Epoch: 6 [42000 / 60000 (70.000000%)]\t1.527128\n",
            "Train Epoch: 6 [44000 / 60000 (73.333333%)]\t1.528003\n",
            "Train Epoch: 6 [46000 / 60000 (76.666667%)]\t1.550555\n",
            "Train Epoch: 6 [48000 / 60000 (80.000000%)]\t1.549318\n",
            "Train Epoch: 6 [50000 / 60000 (83.333333%)]\t1.525319\n",
            "Train Epoch: 6 [52000 / 60000 (86.666667%)]\t1.537357\n",
            "Train Epoch: 6 [54000 / 60000 (90.000000%)]\t1.521918\n",
            "Train Epoch: 6 [56000 / 60000 (93.333333%)]\t1.564778\n",
            "Train Epoch: 6 [58000 / 60000 (96.666667%)]\t1.539898\n",
            "\n",
            "Test set: Average loss:  0.0150, Accuracy 9655/10000  (97%\n",
            ")\n",
            "Train Epoch: 7 [0 / 60000 (0.000000%)]\t1.527119\n",
            "Train Epoch: 7 [2000 / 60000 (3.333333%)]\t1.533345\n",
            "Train Epoch: 7 [4000 / 60000 (6.666667%)]\t1.593007\n",
            "Train Epoch: 7 [6000 / 60000 (10.000000%)]\t1.518056\n",
            "Train Epoch: 7 [8000 / 60000 (13.333333%)]\t1.550523\n",
            "Train Epoch: 7 [10000 / 60000 (16.666667%)]\t1.534381\n",
            "Train Epoch: 7 [12000 / 60000 (20.000000%)]\t1.563362\n",
            "Train Epoch: 7 [14000 / 60000 (23.333333%)]\t1.564212\n",
            "Train Epoch: 7 [16000 / 60000 (26.666667%)]\t1.581194\n",
            "Train Epoch: 7 [18000 / 60000 (30.000000%)]\t1.518904\n",
            "Train Epoch: 7 [20000 / 60000 (33.333333%)]\t1.554135\n",
            "Train Epoch: 7 [22000 / 60000 (36.666667%)]\t1.576502\n",
            "Train Epoch: 7 [24000 / 60000 (40.000000%)]\t1.517688\n",
            "Train Epoch: 7 [26000 / 60000 (43.333333%)]\t1.549366\n",
            "Train Epoch: 7 [28000 / 60000 (46.666667%)]\t1.526858\n",
            "Train Epoch: 7 [30000 / 60000 (50.000000%)]\t1.574265\n",
            "Train Epoch: 7 [32000 / 60000 (53.333333%)]\t1.536388\n",
            "Train Epoch: 7 [34000 / 60000 (56.666667%)]\t1.553971\n",
            "Train Epoch: 7 [36000 / 60000 (60.000000%)]\t1.581820\n",
            "Train Epoch: 7 [38000 / 60000 (63.333333%)]\t1.551226\n",
            "Train Epoch: 7 [40000 / 60000 (66.666667%)]\t1.543520\n",
            "Train Epoch: 7 [42000 / 60000 (70.000000%)]\t1.573697\n",
            "Train Epoch: 7 [44000 / 60000 (73.333333%)]\t1.581961\n",
            "Train Epoch: 7 [46000 / 60000 (76.666667%)]\t1.533114\n",
            "Train Epoch: 7 [48000 / 60000 (80.000000%)]\t1.584695\n",
            "Train Epoch: 7 [50000 / 60000 (83.333333%)]\t1.544713\n",
            "Train Epoch: 7 [52000 / 60000 (86.666667%)]\t1.549335\n",
            "Train Epoch: 7 [54000 / 60000 (90.000000%)]\t1.560612\n",
            "Train Epoch: 7 [56000 / 60000 (93.333333%)]\t1.522078\n",
            "Train Epoch: 7 [58000 / 60000 (96.666667%)]\t1.577557\n",
            "\n",
            "Test set: Average loss:  0.0149, Accuracy 9674/10000  (97%\n",
            ")\n",
            "Train Epoch: 8 [0 / 60000 (0.000000%)]\t1.555580\n",
            "Train Epoch: 8 [2000 / 60000 (3.333333%)]\t1.509952\n",
            "Train Epoch: 8 [4000 / 60000 (6.666667%)]\t1.539607\n",
            "Train Epoch: 8 [6000 / 60000 (10.000000%)]\t1.514362\n",
            "Train Epoch: 8 [8000 / 60000 (13.333333%)]\t1.548095\n",
            "Train Epoch: 8 [10000 / 60000 (16.666667%)]\t1.519406\n",
            "Train Epoch: 8 [12000 / 60000 (20.000000%)]\t1.533147\n",
            "Train Epoch: 8 [14000 / 60000 (23.333333%)]\t1.567773\n",
            "Train Epoch: 8 [16000 / 60000 (26.666667%)]\t1.548218\n",
            "Train Epoch: 8 [18000 / 60000 (30.000000%)]\t1.534853\n",
            "Train Epoch: 8 [20000 / 60000 (33.333333%)]\t1.509118\n",
            "Train Epoch: 8 [22000 / 60000 (36.666667%)]\t1.534292\n",
            "Train Epoch: 8 [24000 / 60000 (40.000000%)]\t1.531052\n",
            "Train Epoch: 8 [26000 / 60000 (43.333333%)]\t1.509676\n",
            "Train Epoch: 8 [28000 / 60000 (46.666667%)]\t1.553382\n",
            "Train Epoch: 8 [30000 / 60000 (50.000000%)]\t1.538277\n",
            "Train Epoch: 8 [32000 / 60000 (53.333333%)]\t1.570914\n",
            "Train Epoch: 8 [34000 / 60000 (56.666667%)]\t1.533778\n",
            "Train Epoch: 8 [36000 / 60000 (60.000000%)]\t1.535629\n",
            "Train Epoch: 8 [38000 / 60000 (63.333333%)]\t1.529720\n",
            "Train Epoch: 8 [40000 / 60000 (66.666667%)]\t1.526324\n",
            "Train Epoch: 8 [42000 / 60000 (70.000000%)]\t1.535665\n",
            "Train Epoch: 8 [44000 / 60000 (73.333333%)]\t1.508716\n",
            "Train Epoch: 8 [46000 / 60000 (76.666667%)]\t1.553638\n",
            "Train Epoch: 8 [48000 / 60000 (80.000000%)]\t1.523679\n",
            "Train Epoch: 8 [50000 / 60000 (83.333333%)]\t1.571096\n",
            "Train Epoch: 8 [52000 / 60000 (86.666667%)]\t1.525319\n",
            "Train Epoch: 8 [54000 / 60000 (90.000000%)]\t1.514606\n",
            "Train Epoch: 8 [56000 / 60000 (93.333333%)]\t1.542466\n",
            "Train Epoch: 8 [58000 / 60000 (96.666667%)]\t1.510084\n",
            "\n",
            "Test set: Average loss:  0.0149, Accuracy 9686/10000  (97%\n",
            ")\n",
            "Train Epoch: 9 [0 / 60000 (0.000000%)]\t1.550799\n",
            "Train Epoch: 9 [2000 / 60000 (3.333333%)]\t1.537351\n",
            "Train Epoch: 9 [4000 / 60000 (6.666667%)]\t1.537228\n",
            "Train Epoch: 9 [6000 / 60000 (10.000000%)]\t1.531740\n",
            "Train Epoch: 9 [8000 / 60000 (13.333333%)]\t1.562933\n",
            "Train Epoch: 9 [10000 / 60000 (16.666667%)]\t1.552574\n",
            "Train Epoch: 9 [12000 / 60000 (20.000000%)]\t1.532674\n",
            "Train Epoch: 9 [14000 / 60000 (23.333333%)]\t1.526998\n",
            "Train Epoch: 9 [16000 / 60000 (26.666667%)]\t1.564828\n",
            "Train Epoch: 9 [18000 / 60000 (30.000000%)]\t1.501564\n",
            "Train Epoch: 9 [20000 / 60000 (33.333333%)]\t1.561893\n",
            "Train Epoch: 9 [22000 / 60000 (36.666667%)]\t1.530433\n",
            "Train Epoch: 9 [24000 / 60000 (40.000000%)]\t1.533597\n",
            "Train Epoch: 9 [26000 / 60000 (43.333333%)]\t1.593340\n",
            "Train Epoch: 9 [28000 / 60000 (46.666667%)]\t1.526343\n",
            "Train Epoch: 9 [30000 / 60000 (50.000000%)]\t1.499095\n",
            "Train Epoch: 9 [32000 / 60000 (53.333333%)]\t1.526354\n",
            "Train Epoch: 9 [34000 / 60000 (56.666667%)]\t1.533057\n",
            "Train Epoch: 9 [36000 / 60000 (60.000000%)]\t1.517358\n",
            "Train Epoch: 9 [38000 / 60000 (63.333333%)]\t1.562175\n",
            "Train Epoch: 9 [40000 / 60000 (66.666667%)]\t1.504872\n",
            "Train Epoch: 9 [42000 / 60000 (70.000000%)]\t1.499108\n",
            "Train Epoch: 9 [44000 / 60000 (73.333333%)]\t1.515483\n",
            "Train Epoch: 9 [46000 / 60000 (76.666667%)]\t1.566832\n",
            "Train Epoch: 9 [48000 / 60000 (80.000000%)]\t1.576627\n",
            "Train Epoch: 9 [50000 / 60000 (83.333333%)]\t1.552282\n",
            "Train Epoch: 9 [52000 / 60000 (86.666667%)]\t1.564429\n",
            "Train Epoch: 9 [54000 / 60000 (90.000000%)]\t1.553239\n",
            "Train Epoch: 9 [56000 / 60000 (93.333333%)]\t1.521443\n",
            "Train Epoch: 9 [58000 / 60000 (96.666667%)]\t1.511803\n",
            "\n",
            "Test set: Average loss:  0.0149, Accuracy 9694/10000  (97%\n",
            ")\n",
            "Train Epoch: 10 [0 / 60000 (0.000000%)]\t1.556497\n",
            "Train Epoch: 10 [2000 / 60000 (3.333333%)]\t1.497050\n",
            "Train Epoch: 10 [4000 / 60000 (6.666667%)]\t1.537634\n",
            "Train Epoch: 10 [6000 / 60000 (10.000000%)]\t1.538110\n",
            "Train Epoch: 10 [8000 / 60000 (13.333333%)]\t1.520241\n",
            "Train Epoch: 10 [10000 / 60000 (16.666667%)]\t1.521709\n",
            "Train Epoch: 10 [12000 / 60000 (20.000000%)]\t1.529689\n",
            "Train Epoch: 10 [14000 / 60000 (23.333333%)]\t1.520885\n",
            "Train Epoch: 10 [16000 / 60000 (26.666667%)]\t1.517140\n",
            "Train Epoch: 10 [18000 / 60000 (30.000000%)]\t1.539108\n",
            "Train Epoch: 10 [20000 / 60000 (33.333333%)]\t1.519763\n",
            "Train Epoch: 10 [22000 / 60000 (36.666667%)]\t1.535260\n",
            "Train Epoch: 10 [24000 / 60000 (40.000000%)]\t1.540606\n",
            "Train Epoch: 10 [26000 / 60000 (43.333333%)]\t1.523376\n",
            "Train Epoch: 10 [28000 / 60000 (46.666667%)]\t1.552881\n",
            "Train Epoch: 10 [30000 / 60000 (50.000000%)]\t1.536710\n",
            "Train Epoch: 10 [32000 / 60000 (53.333333%)]\t1.527130\n",
            "Train Epoch: 10 [34000 / 60000 (56.666667%)]\t1.516532\n",
            "Train Epoch: 10 [36000 / 60000 (60.000000%)]\t1.528458\n",
            "Train Epoch: 10 [38000 / 60000 (63.333333%)]\t1.562497\n",
            "Train Epoch: 10 [40000 / 60000 (66.666667%)]\t1.512885\n",
            "Train Epoch: 10 [42000 / 60000 (70.000000%)]\t1.531596\n",
            "Train Epoch: 10 [44000 / 60000 (73.333333%)]\t1.537523\n",
            "Train Epoch: 10 [46000 / 60000 (76.666667%)]\t1.519982\n",
            "Train Epoch: 10 [48000 / 60000 (80.000000%)]\t1.545258\n",
            "Train Epoch: 10 [50000 / 60000 (83.333333%)]\t1.512583\n",
            "Train Epoch: 10 [52000 / 60000 (86.666667%)]\t1.542611\n",
            "Train Epoch: 10 [54000 / 60000 (90.000000%)]\t1.564399\n",
            "Train Epoch: 10 [56000 / 60000 (93.333333%)]\t1.549421\n",
            "Train Epoch: 10 [58000 / 60000 (96.666667%)]\t1.516053\n",
            "\n",
            "Test set: Average loss:  0.0149, Accuracy 9705/10000  (97%\n",
            ")\n"
          ]
        }
      ]
    },
    {
      "cell_type": "code",
      "source": [
        "import matplotlib.pyplot as plt\n",
        "model.eval()\n",
        "data, target = test_data[0]\n",
        "data = data.unsqueeze(0).to(device)\n",
        "output = model(data)\n",
        "prediction = output.argmax(dim=1, keepdim=True).item()\n",
        "print(f\"Prediction: {prediction}\")\n",
        "image = data.squeeze(0).squeeze(0).numpy()\n",
        "\n",
        "plt.imshow(image);"
      ],
      "metadata": {
        "colab": {
          "base_uri": "https://localhost:8080/",
          "height": 447
        },
        "id": "HYmrsn_F3wlw",
        "outputId": "2f792601-9729-4dcb-f257-b8ce2149686a"
      },
      "execution_count": 18,
      "outputs": [
        {
          "output_type": "stream",
          "name": "stdout",
          "text": [
            "Prediction: 7\n"
          ]
        },
        {
          "output_type": "display_data",
          "data": {
            "text/plain": [
              "<Figure size 640x480 with 1 Axes>"
            ],
            "image/png": "[encoded data removed]"
          },
          "metadata": {}
        }
      ]
    },
    {
      "cell_type": "code",
      "source": [
        "import matplotlib.pyplot as plt\n",
        "model.eval()\n",
        "data, target = test_data[1]\n",
        "data = data.unsqueeze(0).to(device)\n",
        "output = model(data)\n",
        "prediction = output.argmax(dim=1, keepdim=True).item()\n",
        "print(f\"Prediction: {prediction}\")\n",
        "image = data.squeeze(0).squeeze(0).numpy()\n",
        "\n",
        "plt.imshow(image);"
      ],
      "metadata": {
        "colab": {
          "base_uri": "https://localhost:8080/",
          "height": 447
        },
        "id": "8K6B-e0134Pg",
        "outputId": "462e0029-5123-4150-b62a-ef59ed3b2d99"
      },
      "execution_count": 19,
      "outputs": [
        {
          "output_type": "stream",
          "name": "stdout",
          "text": [
            "Prediction: 2\n"
          ]
        },
        {
          "output_type": "display_data",
          "data": {
            "text/plain": [
              "<Figure size 640x480 with 1 Axes>"
            ],
            "image/png": "[encoded data removed]"
          },
          "metadata": {}
        }
      ]
    },
    {
      "cell_type": "code",
      "source": [
        "import matplotlib.pyplot as plt\n",
        "model.eval()\n",
        "data, target = test_data[2]\n",
        "data = data.unsqueeze(0).to(device)\n",
        "output = model(data)\n",
        "prediction = output.argmax(dim=1, keepdim=True).item()\n",
        "print(f\"Prediction: {prediction}\")\n",
        "image = data.squeeze(0).squeeze(0).numpy()\n",
        "\n",
        "plt.imshow(image);"
      ],
      "metadata": {
        "colab": {
          "base_uri": "https://localhost:8080/",
          "height": 447
        },
        "id": "p-PJdY0Y39wD",
        "outputId": "5fa52c2d-abee-4c9f-ac85-dfcece050017"
      },
      "execution_count": 20,
      "outputs": [
        {
          "output_type": "stream",
          "name": "stdout",
          "text": [
            "Prediction: 1\n"
          ]
        },
        {
          "output_type": "display_data",
          "data": {
            "text/plain": [
              "<Figure size 640x480 with 1 Axes>"
            ],
            "image/png": "[encoded data removed]"
          },
          "metadata": {}
        }
      ]
    }
  ]
}
